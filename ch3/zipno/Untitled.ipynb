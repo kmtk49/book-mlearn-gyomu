{
 "cells": [
  {
   "cell_type": "code",
   "execution_count": 2,
   "metadata": {},
   "outputs": [
    {
     "name": "stderr",
     "output_type": "stream",
     "text": [
      "/home/lcj01/anaconda3/envs/OpenCV/lib/python3.6/site-packages/sklearn/base.py:251: UserWarning: Trying to unpickle estimator LinearSVC from version 0.19.0 when using version 0.20.1. This might lead to breaking code or invalid results. Use at your own risk.\n",
      "  UserWarning)\n"
     ]
    },
    {
     "data": {
      "image/png": "[encoded data removed]",
      "text/plain": [
       "<Figure size 432x288 with 7 Axes>"
      ]
     },
     "metadata": {
      "needs_background": "light"
     },
     "output_type": "display_data"
    }
   ],
   "source": [
    "from detect_zip import *\n",
    "import matplotlib.pyplot as plt\n",
    "\n",
    "from sklearn.externals import joblib\n",
    "\n",
    "# 学習済み手書き数字のデータを読込\n",
    "clf = joblib.load(\"digits.pkl\")\n",
    "\n",
    "# 画像から領域を読み込む\n",
    "cnts, img = detect_zipno(\"hagaki1.png\")\n",
    "\n",
    "# 読み込んだデータをプロット\n",
    "for i, pt in enumerate(cnts):\n",
    "    x, y, w, h = pt\n",
    "    # 枠線の輪郭分だけ小さくする\n",
    "    x += 8\n",
    "    y += 8\n",
    "    w -= 16\n",
    "    h -= 16\n",
    "    # 画像データを取り出す\n",
    "    im2 = img[y:y+h, x:x+w]\n",
    "    # データを学習済みデータに合わせる\n",
    "    im2gray = cv2.cvtColor(im2, cv2.COLOR_BGR2GRAY) # グレイスケールに\n",
    "    im2gray = cv2.resize(im2gray, (8, 8)) # リサイズ\n",
    "    im2gray = 15 - im2gray // 16 # 白黒反転\n",
    "    im2gray = im2gray.reshape((-1, 64)) # 一次元に変換\n",
    "    # データ予測する\n",
    "    res = clf.predict(im2gray)\n",
    "    # 画面に出力\n",
    "    plt.subplot(1, 7, i + 1)\n",
    "    plt.imshow(im2)\n",
    "    plt.axis(\"off\")\n",
    "    plt.title(res)\n",
    "\n",
    "plt.show()\n"
   ]
  },
  {
   "cell_type": "code",
   "execution_count": null,
   "metadata": {},
   "outputs": [],
   "source": []
  }
 ],
 "metadata": {
  "kernelspec": {
   "display_name": "Python 3",
   "language": "python",
   "name": "python3"
  },
  "language_info": {
   "codemirror_mode": {
    "name": "ipython",
    "version": 3
   },
   "file_extension": ".py",
   "mimetype": "text/x-python",
   "name": "python",
   "nbconvert_exporter": "python",
   "pygments_lexer": "ipython3",
   "version": "3.6.8"
  }
 },
 "nbformat": 4,
 "nbformat_minor": 2
}
