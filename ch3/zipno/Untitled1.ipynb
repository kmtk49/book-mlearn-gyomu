{
 "cells": [
  {
   "cell_type": "code",
   "execution_count": 2,
   "metadata": {},
   "outputs": [],
   "source": [
    "%matplotlib inline"
   ]
  },
  {
   "cell_type": "code",
   "execution_count": 3,
   "metadata": {},
   "outputs": [
    {
     "data": {
      "image/png": "[encoded data removed]",
      "text/plain": [
       "<Figure size 432x288 with 1 Axes>"
      ]
     },
     "metadata": {
      "needs_background": "light"
     },
     "output_type": "display_data"
    }
   ],
   "source": [
    "import cv2\n",
    "import matplotlib.pyplot as plt\n",
    "\n",
    "# ハガキ画像から郵便番号領域を抽出する関数\n",
    "def detect_zipno(fname):\n",
    "    # 画像を読み込む\n",
    "    img = cv2.imread(fname)\n",
    "    # 画像のサイズを求める\n",
    "    h, w = img.shape[:2]\n",
    "    # ハガキ画像の右上のみ抽出する --- (*1)\n",
    "    img = img[0:h//2, w//3:]\n",
    "    \n",
    "    # 画像を二値化 --- (*2)\n",
    "    gray = cv2.cvtColor(img, cv2.COLOR_BGR2GRAY)\n",
    "    gray = cv2.GaussianBlur(gray, (3, 3), 0) \n",
    "    im2 = cv2.threshold(gray, 140, 255, cv2.THRESH_BINARY_INV)[1]\n",
    "    \n",
    "    # 輪郭を抽出 --- (*3)\n",
    "    cnts = cv2.findContours(im2, \n",
    "        cv2.RETR_LIST,\n",
    "        cv2.CHAIN_APPROX_SIMPLE)[0]\n",
    "    \n",
    "    # 抽出した輪郭を単純なリストに変換--- (*4)\n",
    "    result = []\n",
    "    for pt in cnts:\n",
    "        x, y, w, h = cv2.boundingRect(pt)\n",
    "        # 大きすぎる小さすぎる領域を除去 --- (*5)\n",
    "        if not(50 < w < 70): continue\n",
    "        result.append([x, y, w, h])\n",
    "    # 抽出した輪郭が左側から並ぶようソート --- (*6)\n",
    "    result = sorted(result, key=lambda x: x[0])\n",
    "    # 抽出した輪郭が近すぎるものを除去 --- (*7)\n",
    "    result2 = []\n",
    "    lastx = -100\n",
    "    for x, y, w, h in result:\n",
    "        if (x - lastx) < 10: continue\n",
    "        result2.append([x, y, w, h])\n",
    "        lastx = x\n",
    "    # 緑色の枠を描画 --- (*8)\n",
    "    for x, y, w, h in result2:\n",
    "        cv2.rectangle(img, (x, y), (x+w, y+h), (0, 255, 0), 3)\n",
    "    return result2, img\n",
    "\n",
    "if __name__ == '__main__':\n",
    "    # ハガキ画像を指定して領域を抽出\n",
    "    cnts, img = detect_zipno(\"hagaki1.png\")\n",
    "\n",
    "    # 画面に抽出結果を描画\n",
    "    plt.imshow(cv2.cvtColor(img, cv2.COLOR_BGR2RGB))\n",
    "    plt.savefig(\"detect-zip.png\", dpi=200)\n",
    "    plt.show()\n",
    "\n"
   ]
  },
  {
   "cell_type": "code",
   "execution_count": null,
   "metadata": {},
   "outputs": [],
   "source": []
  }
 ],
 "metadata": {
  "kernelspec": {
   "display_name": "Python 3",
   "language": "python",
   "name": "python3"
  },
  "language_info": {
   "codemirror_mode": {
    "name": "ipython",
    "version": 3
   },
   "file_extension": ".py",
   "mimetype": "text/x-python",
   "name": "python",
   "nbconvert_exporter": "python",
   "pygments_lexer": "ipython3",
   "version": "3.6.8"
  }
 },
 "nbformat": 4,
 "nbformat_minor": 2
}
