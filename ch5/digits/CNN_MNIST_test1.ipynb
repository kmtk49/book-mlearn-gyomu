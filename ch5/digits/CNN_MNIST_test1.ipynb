{
 "cells": [
  {
   "cell_type": "code",
   "execution_count": 1,
   "metadata": {},
   "outputs": [
    {
     "name": "stderr",
     "output_type": "stream",
     "text": [
      "Using TensorFlow backend.\n"
     ]
    },
    {
     "name": "stdout",
     "output_type": "stream",
     "text": [
      "WARNING:tensorflow:From /home/lcj01/anaconda3/envs/OpenCV/lib/python3.6/site-packages/tensorflow/python/framework/op_def_library.py:263: colocate_with (from tensorflow.python.framework.ops) is deprecated and will be removed in a future version.\n",
      "Instructions for updating:\n",
      "Colocations handled automatically by placer.\n",
      "WARNING:tensorflow:From /home/lcj01/anaconda3/envs/OpenCV/lib/python3.6/site-packages/keras/backend/tensorflow_backend.py:3445: calling dropout (from tensorflow.python.ops.nn_ops) with keep_prob is deprecated and will be removed in a future version.\n",
      "Instructions for updating:\n",
      "Please use `rate` instead of `keep_prob`. Rate should be set to `rate = 1 - keep_prob`.\n",
      "WARNING:tensorflow:From /home/lcj01/anaconda3/envs/OpenCV/lib/python3.6/site-packages/tensorflow/python/ops/math_ops.py:3066: to_int32 (from tensorflow.python.ops.math_ops) is deprecated and will be removed in a future version.\n",
      "Instructions for updating:\n",
      "Use tf.cast instead.\n",
      "Train on 60000 samples, validate on 10000 samples\n",
      "Epoch 1/12\n",
      "60000/60000 [==============================] - 9s 147us/step - loss: 0.2129 - acc: 0.9345 - val_loss: 0.0484 - val_acc: 0.9835\n",
      "Epoch 2/12\n",
      "60000/60000 [==============================] - 4s 64us/step - loss: 0.0791 - acc: 0.9773 - val_loss: 0.0371 - val_acc: 0.9874\n",
      "Epoch 3/12\n",
      "60000/60000 [==============================] - 4s 66us/step - loss: 0.0610 - acc: 0.9826 - val_loss: 0.0368 - val_acc: 0.9878\n",
      "Epoch 4/12\n",
      "60000/60000 [==============================] - 4s 66us/step - loss: 0.0504 - acc: 0.9855 - val_loss: 0.0355 - val_acc: 0.9890\n",
      "Epoch 5/12\n",
      "60000/60000 [==============================] - 4s 69us/step - loss: 0.0478 - acc: 0.9861 - val_loss: 0.0328 - val_acc: 0.9903\n",
      "Epoch 6/12\n",
      "60000/60000 [==============================] - 4s 68us/step - loss: 0.0448 - acc: 0.9868 - val_loss: 0.0343 - val_acc: 0.9883\n",
      "Epoch 7/12\n",
      "60000/60000 [==============================] - 4s 66us/step - loss: 0.0420 - acc: 0.9877 - val_loss: 0.0329 - val_acc: 0.9899\n",
      "Epoch 8/12\n",
      "60000/60000 [==============================] - 4s 66us/step - loss: 0.0429 - acc: 0.9881 - val_loss: 0.0319 - val_acc: 0.9908\n",
      "Epoch 9/12\n",
      "60000/60000 [==============================] - 4s 65us/step - loss: 0.0414 - acc: 0.9881 - val_loss: 0.0352 - val_acc: 0.9897\n",
      "Epoch 10/12\n",
      "60000/60000 [==============================] - 4s 65us/step - loss: 0.0445 - acc: 0.9874 - val_loss: 0.0424 - val_acc: 0.9882\n",
      "Epoch 11/12\n",
      "60000/60000 [==============================] - 4s 70us/step - loss: 0.0455 - acc: 0.9879 - val_loss: 0.0380 - val_acc: 0.9902\n",
      "Epoch 12/12\n",
      "60000/60000 [==============================] - 4s 65us/step - loss: 0.0436 - acc: 0.9882 - val_loss: 0.0400 - val_acc: 0.9904\n",
      "10000/10000 [==============================] - 0s 43us/step\n",
      "正解率= 0.9904 loss= 0.03997904546967502\n"
     ]
    },
    {
     "data": {
      "text/plain": [
       "<Figure size 640x480 with 1 Axes>"
      ]
     },
     "metadata": {},
     "output_type": "display_data"
    },
    {
     "data": {
      "text/plain": [
       "<Figure size 640x480 with 1 Axes>"
      ]
     },
     "metadata": {},
     "output_type": "display_data"
    }
   ],
   "source": [
    "# CNNでMNISTの分類問題に挑戦\n",
    "import keras\n",
    "from keras.models import Sequential\n",
    "from keras.layers import Dense, Dropout, Flatten\n",
    "from keras.layers import Conv2D, MaxPooling2D\n",
    "from keras.optimizers import RMSprop \n",
    "from keras.datasets import mnist\n",
    "import matplotlib.pyplot as plt\n",
    "\n",
    "# 入力と出力を指定 --- (*1)\n",
    "im_rows = 28 # 画像の縦ピクセルサイズ\n",
    "im_cols = 28 # 画像の横ピクセルサイズ\n",
    "im_color = 1 # 画像の色空間/グレイスケール\n",
    "in_shape = (im_rows, im_cols, im_color)\n",
    "out_size = 10\n",
    "\n",
    "# MNISTのデータを読み込み \n",
    "(X_train, y_train), (X_test, y_test) = mnist.load_data()\n",
    "# 読み込んだデータをの三次元配列に変換 --- (*1a)\n",
    "X_train = X_train.reshape(-1, im_rows, im_cols, im_color)\n",
    "X_train = X_train.astype('float32') / 255\n",
    "X_test = X_test.reshape(-1, im_rows, im_cols, im_color)\n",
    "X_test = X_test.astype('float32') / 255\n",
    "# ラベルデータをone-hotベクトルに直す\n",
    "y_train = keras.utils.np_utils.to_categorical(y_train.astype('int32'),10)\n",
    "y_test = keras.utils.np_utils.to_categorical(y_test.astype('int32'),10)\n",
    "\n",
    "# CNNモデル構造を定義 --- (*2)\n",
    "model = Sequential()\n",
    "model.add(Conv2D(32, \n",
    "          kernel_size=(3, 3),\n",
    "          activation='relu',\n",
    "          input_shape=in_shape))\n",
    "model.add(Conv2D(64, (3, 3), activation='relu'))\n",
    "model.add(MaxPooling2D(pool_size=(2, 2)))\n",
    "model.add(Dropout(0.25))\n",
    "model.add(Flatten())\n",
    "model.add(Dense(128, activation='relu'))\n",
    "model.add(Dropout(0.5))\n",
    "model.add(Dense(out_size, activation='softmax'))\n",
    "\n",
    "# モデルをコンパイル --- (*3)\n",
    "model.compile(\n",
    "    loss='categorical_crossentropy',\n",
    "    optimizer=RMSprop(),\n",
    "    metrics=['accuracy'])\n",
    "\n",
    "# 学習を実行 --- (*4)\n",
    "hist = model.fit(X_train, y_train,\n",
    "          batch_size=128, \n",
    "          epochs=12,\n",
    "          verbose=1,\n",
    "          validation_data=(X_test, y_test))\n",
    "\n",
    "# モデルを評価 --- (*5)\n",
    "score = model.evaluate(X_test, y_test, verbose=1)\n",
    "print('正解率=', score[1], 'loss=', score[0])\n",
    "\n",
    "# モデルを保存 --- \n",
    "model.save('MNIST_CNN_model.h5')\n",
    "# 学習済み重みデータを保存 --- \n",
    "model.save_weights('MNIST_CNN_weight.h5')\n",
    "\n",
    "\n",
    "# 学習の様子をグラフへ描画 --- (*6)\n",
    "# 正解率の推移をプロット\n",
    "plt.plot(hist.history['acc'])\n",
    "plt.plot(hist.history['val_acc'])\n",
    "plt.title('Accuracy')\n",
    "plt.legend(['train', 'test'], loc='upper left')\n",
    "plt.show()\n",
    "\n",
    "# ロスの推移をプロット\n",
    "plt.plot(hist.history['loss'])\n",
    "plt.plot(hist.history['val_loss'])\n",
    "plt.title('Loss')\n",
    "plt.legend(['train', 'test'], loc='upper left')\n",
    "plt.show()"
   ]
  },
  {
   "cell_type": "code",
   "execution_count": null,
   "metadata": {},
   "outputs": [],
   "source": []
  }
 ],
 "metadata": {
  "kernelspec": {
   "display_name": "Python 3",
   "language": "python",
   "name": "python3"
  },
  "language_info": {
   "codemirror_mode": {
    "name": "ipython",
    "version": 3
   },
   "file_extension": ".py",
   "mimetype": "text/x-python",
   "name": "python",
   "nbconvert_exporter": "python",
   "pygments_lexer": "ipython3",
   "version": "3.6.8"
  }
 },
 "nbformat": 4,
 "nbformat_minor": 2
}
