{
 "cells": [
  {
   "cell_type": "code",
   "execution_count": 2,
   "metadata": {},
   "outputs": [
    {
     "name": "stdout",
     "output_type": "stream",
     "text": [
      "10000/10000 [==============================] - 0s 44us/step\n",
      "正解率= 0.9904 loss= 0.03997904546967502\n"
     ]
    }
   ],
   "source": [
    "# CNNでMNISTの分類問題に挑戦\n",
    "import keras\n",
    "from keras.models import Sequential, load_model\n",
    "#from keras.layers import Dense, Dropout, Flatten\n",
    "#from keras.layers import Conv2D, MaxPooling2D\n",
    "#from keras.optimizers import RMSprop \n",
    "from keras.datasets import mnist\n",
    "import matplotlib.pyplot as plt\n",
    "\n",
    "\n",
    "# 入力と出力を指定 --- (*1)\n",
    "im_rows = 28 # 画像の縦ピクセルサイズ\n",
    "im_cols = 28 # 画像の横ピクセルサイズ\n",
    "im_color = 1 # 画像の色空間/グレイスケール\n",
    "in_shape = (im_rows, im_cols, im_color)\n",
    "out_size = 10\n",
    "\n",
    "# MNISTのデータを読み込み \n",
    "(X_train, y_train), (X_test, y_test) = mnist.load_data()\n",
    "# 読み込んだデータをの三次元配列に変換 --- (*1a)\n",
    "X_train = X_train.reshape(-1, im_rows, im_cols, im_color)\n",
    "X_train = X_train.astype('float32') / 255\n",
    "X_test = X_test.reshape(-1, im_rows, im_cols, im_color)\n",
    "X_test = X_test.astype('float32') / 255\n",
    "# ラベルデータをone-hotベクトルに直す\n",
    "y_train = keras.utils.np_utils.to_categorical(y_train.astype('int32'),10)\n",
    "y_test = keras.utils.np_utils.to_categorical(y_test.astype('int32'),10)\n",
    "\n",
    "# モデルを読込 --- (*1)\n",
    "model = load_model('MNIST_CNN_model.h5')\n",
    "# 重みデータを読込 --- (*2)\n",
    "model.load_weights('MNIST_CNN_weight.h5')\n",
    "\n",
    "# モデルを評価 --- (*5)\n",
    "score = model.evaluate(X_test, y_test, verbose=1)\n",
    "print('正解率=', score[1], 'loss=', score[0])\n"
   ]
  }
 ],
 "metadata": {
  "kernelspec": {
   "display_name": "Python 3",
   "language": "python",
   "name": "python3"
  },
  "language_info": {
   "codemirror_mode": {
    "name": "ipython",
    "version": 3
   },
   "file_extension": ".py",
   "mimetype": "text/x-python",
   "name": "python",
   "nbconvert_exporter": "python",
   "pygments_lexer": "ipython3",
   "version": "3.6.8"
  }
 },
 "nbformat": 4,
 "nbformat_minor": 2
}
